{
 "cells": [
  {
   "cell_type": "code",
   "execution_count": 31,
   "metadata": {},
   "outputs": [
    {
     "name": "stdin",
     "output_type": "stream",
     "text": [
      "What is your name?  Logan\n",
      "Enter a random String:  Tets time 12487\n"
     ]
    },
    {
     "name": "stdout",
     "output_type": "stream",
     "text": [
      "Hello Logan\n",
      "Your String shifted is: \n",
      "Ufut!ujnf!23598"
     ]
    }
   ],
   "source": [
    "name = input(\"What is your name? \")\n",
    "rand = input(\"Enter a random String: \")\n",
    "\n",
    "print(\"Hello \" + name)\n",
    "print (\"Your String shifted is: \")\n",
    "for x in range(len(rand)):\n",
    "    print(chr(ord(rand[x]) + 1), end = \"\")"
   ]
  }
 ],
 "metadata": {
  "kernelspec": {
   "display_name": "Python 3",
   "language": "python",
   "name": "python3"
  },
  "language_info": {
   "codemirror_mode": {
    "name": "ipython",
    "version": 3
   },
   "file_extension": ".py",
   "mimetype": "text/x-python",
   "name": "python",
   "nbconvert_exporter": "python",
   "pygments_lexer": "ipython3",
   "version": "3.8.3"
  }
 },
 "nbformat": 4,
 "nbformat_minor": 4
}
